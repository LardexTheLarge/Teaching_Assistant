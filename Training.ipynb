{
  "cells": [
    {
      "cell_type": "code",
      "execution_count": 13,
      "metadata": {
        "id": "pnOGdzQDN66H"
      },
      "outputs": [],
      "source": [
        "import json\n",
        "import numpy as np\n",
        "import pandas as pd\n",
        "import tensorflow as tf\n",
        "import logging\n",
        "from io import StringIO\n",
        "from sklearn.model_selection import train_test_split\n",
        "from tensorflow.keras.preprocessing.sequence import pad_sequences\n",
        "\n",
        "# Configure logging\n",
        "logging.basicConfig(level=logging.INFO, format=\"%(asctime)s - %(message)s\")\n",
        "logger = logging.getLogger(__name__)\n",
        "\n",
        "# Helper function to clean CSV content\n",
        "\n",
        "cleaned_lines = []\n",
        "with open('processed_code.csv', 'r', encoding='utf-8') as file:\n",
        "    for line in file:\n",
        "        # Strip leading and trailing whitespaces and remove unclosed quotes\n",
        "        cleaned_lines.append(line.strip().replace('\"', ''))\n",
        "cleaned_content = \"\\n\".join(cleaned_lines)"
      ]
    },
    {
      "cell_type": "code",
      "execution_count": null,
      "metadata": {},
      "outputs": [],
      "source": [
        "# Load the CSV file\n",
        "codeDf = pd.read_csv(cleaned_content)\n",
        "# Extract comments and code from the DataFrame and ensure all entries are strings\n",
        "\n",
        "codeDf['comments'] = codeDf['comments'].astype(str)\n",
        "codeDf['code'] = codeDf['code'].astype(str)\n",
        "comments = codeDf['comments'].dropna().tolist()\n",
        "code = codeDf['code'].dropna().tolist()"
      ]
    },
    {
      "cell_type": "code",
      "execution_count": null,
      "metadata": {},
      "outputs": [],
      "source": [
        "\n",
        "# Ensure there is data to process\n",
        "if not comments or not code:\n",
        "    logger.error(\"No comments or code found in the CSV file.\")\n",
        "    raise ValueError(\"The CSV file does not contain any comments or code.\")\n",
        "\n",
        "# Tokenize the comments and code\n",
        "tokenizer = tf.keras.preprocessing.text.Tokenizer()\n",
        "tokenizer.fit_on_texts(comments + code)\n",
        "\n",
        "comments_sequences = tokenizer.texts_to_sequences(comments)\n",
        "code_sequences = tokenizer.texts_to_sequences(code)\n",
        "\n",
        "# Padding sequences\n",
        "max_len = max(max(len(seq) for seq in comments_sequences), max(len(seq) for seq in code_sequences))\n",
        "comments_padded = pad_sequences(comments_sequences, maxlen=max_len, padding='post')\n",
        "code_padded = pad_sequences(code_sequences, maxlen=max_len, padding='post')\n",
        "\n",
        "# Combine data for training\n",
        "X = np.vstack((comments_padded, code_padded))\n",
        "y = np.array([0] * len(comments_padded) + [1] * len(code_padded))  # Assuming binary classification: 0 for comments, 1 for code\n",
        "\n",
        "# Split data\n",
        "try:\n",
        "    X_train, X_test, y_train, y_test = train_test_split(X, y, test_size=0.2, random_state=42)\n",
        "except ValueError as e:\n",
        "    logger.error(f\"Error during train-test split: {e}\")\n",
        "    raise\n"
      ]
    },
    {
      "cell_type": "code",
      "execution_count": null,
      "metadata": {},
      "outputs": [],
      "source": [
        "\n",
        "model = tf.keras.Sequential([\n",
        "    tf.keras.layers.Embedding(input_dim=len(tokenizer.word_index) + 1, output_dim=128, input_length=max_len),\n",
        "    tf.keras.layers.LSTM(128, return_sequences=True),\n",
        "    tf.keras.layers.LSTM(64),\n",
        "    tf.keras.layers.Dense(1, activation='sigmoid')\n",
        "])\n",
        "\n",
        "model.compile(optimizer='adam', loss='binary_crossentropy', metrics=['accuracy'])"
      ]
    },
    {
      "cell_type": "code",
      "execution_count": null,
      "metadata": {
        "id": "TkUIbdZ8N66M"
      },
      "outputs": [],
      "source": [
        "history = model.fit(X_train, y_train, epochs=10, batch_size=32, validation_split=0.2)"
      ]
    },
    {
      "cell_type": "code",
      "execution_count": null,
      "metadata": {
        "id": "ly78nZwJN66M",
        "outputId": "c9aaf44c-19b1-4bc7-867a-556e0ccc54ef"
      },
      "outputs": [
        {
          "name": "stdout",
          "output_type": "stream",
          "text": [
            "2/2 [==============================] - 1s 364ms/step - loss: 0.6937 - accuracy: 0.5000\n",
            "Test Accuracy: 50.00%\n"
          ]
        }
      ],
      "source": [
        "loss, accuracy = model.evaluate(X_test, y_test)\n",
        "print(f\"Test Accuracy: {accuracy * 100:.2f}%\")"
      ]
    }
  ],
  "metadata": {
    "colab": {
      "provenance": []
    },
    "kernelspec": {
      "display_name": "base",
      "language": "python",
      "name": "python3"
    },
    "language_info": {
      "codemirror_mode": {
        "name": "ipython",
        "version": 3
      },
      "file_extension": ".py",
      "mimetype": "text/x-python",
      "name": "python",
      "nbconvert_exporter": "python",
      "pygments_lexer": "ipython3",
      "version": "3.11.5"
    }
  },
  "nbformat": 4,
  "nbformat_minor": 0
}
