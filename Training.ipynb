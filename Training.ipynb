{
  "cells": [
    {
      "cell_type": "code",
      "execution_count": null,
      "metadata": {
        "id": "pnOGdzQDN66H"
      },
      "outputs": [],
      "source": [
        "import json\n",
        "import numpy as np\n",
        "import pandas as pd\n",
        "import tensorflow as tf\n",
        "import logging\n",
        "from io import StringIO\n",
        "from sklearn.model_selection import train_test_split\n",
        "from tensorflow.keras.preprocessing.sequence import pad_sequences\n",
        "\n",
        "# Configure logging\n",
        "logging.basicConfig(level=logging.INFO, format=\"%(asctime)s - %(message)s\")\n",
        "logger = logging.getLogger(__name__)\n",
        "\n",
        "# Load the CSV file directly into a DataFrame\n",
        "try:\n",
        "    codeDf = pd.read_csv('processed_code.csv', encoding='utf-8')\n",
        "    logger.info(\"CSV file loaded successfully.\")\n",
        "except FileNotFoundError as e:\n",
        "    logger.error(f\"CSV file not found: {e}\")\n",
        "    raise\n",
        "except pd.errors.ParserError as e:\n",
        "    logger.error(f\"Error parsing CSV file: {e}\")\n",
        "    raise\n",
        "except Exception as e:\n",
        "    logger.error(f\"An unexpected error occurred: {e}\")\n",
        "    raise\n",
        "\n",
        "# Clean a dataframe function\n",
        "def clean_dataframe(df):\n",
        "    for column in df.columns:\n",
        "        df[column] = df[column].astype(str).str.strip().str.replace('\"', '')\n",
        "    return df"
      ]
    },
    {
      "cell_type": "code",
      "execution_count": null,
      "metadata": {},
      "outputs": [],
      "source": [
        "# Clean the DataFrame content\n",
        "try:\n",
        "    codeDf = clean_dataframe(codeDf)\n",
        "    logger.info(\"DataFrame cleaned successfully.\")\n",
        "except Exception as e:\n",
        "    logger.error(f\"An error occurred while cleaning the DataFrame: {e}\")\n",
        "    raise"
      ]
    },
    {
      "cell_type": "code",
      "execution_count": null,
      "metadata": {},
      "outputs": [],
      "source": [
        "# Check if the 'code' column is in the DataFrame\n",
        "if 'code' not in codeDf.columns:\n",
        "    logger.error(\"Required column 'code' is not found in the DataFrame.\")\n",
        "    raise KeyError(\"Required column 'code' is not found in the DataFrame.\")\n",
        "\n",
        "# Tokenize the code\n",
        "tokenizer = tf.keras.preprocessing.text.Tokenizer()\n",
        "tokenizer.fit_on_texts(codeDf['code'])\n",
        "\n",
        "code_sequences = tokenizer.texts_to_sequences(codeDf['code'])\n",
        "\n",
        "# Padding sequences\n",
        "max_len = max(len(seq) for seq in code_sequences)\n",
        "code_padded = pad_sequences(code_sequences, maxlen=max_len, padding='post')\n",
        "\n",
        "# Prepare labels (Assuming binary classification: all entries are code)\n",
        "X = code_padded\n",
        "y = np.ones(len(code_padded))  # Using 1 for all code entries, adjust as needed for your use case\n",
        "\n",
        "# Split data\n",
        "try:\n",
        "    X_train, X_test, y_train, y_test = train_test_split(X, y, test_size=0.2, random_state=42)\n",
        "    logger.info(\"Data split into training and testing sets successfully.\")\n",
        "except ValueError as e:\n",
        "    logger.error(f\"Error during train-test split: {e}\")\n",
        "    raise\n"
      ]
    },
    {
      "cell_type": "code",
      "execution_count": null,
      "metadata": {},
      "outputs": [],
      "source": [
        "# Define the model\n",
        "model = tf.keras.Sequential([\n",
        "    tf.keras.layers.Embedding(input_dim=len(tokenizer.word_index) + 1, output_dim=128, input_length=max_len),\n",
        "    tf.keras.layers.LSTM(150, return_sequences=True),\n",
        "    tf.keras.layers.LSTM(150, return_sequences=True),\n",
        "    tf.keras.layers.LSTM(150),\n",
        "    tf.keras.layers.Dense(len(tokenizer.word_index) + 1, activation='relu')\n",
        "])\n",
        "\n",
        "# Compile the model\n",
        "model.compile(optimizer='adam', loss='sparse_categorical_crossentropy', metrics=['accuracy'])\n",
        "\n",
        "# Print the model summary\n",
        "model.summary()"
      ]
    },
    {
      "cell_type": "code",
      "execution_count": null,
      "metadata": {
        "id": "TkUIbdZ8N66M"
      },
      "outputs": [],
      "source": [
        "history = model.fit(X_train, y_train, epochs=100, batch_size=100, validation_split=0.2)"
      ]
    },
    {
      "cell_type": "code",
      "execution_count": null,
      "metadata": {
        "id": "ly78nZwJN66M",
        "outputId": "c9aaf44c-19b1-4bc7-867a-556e0ccc54ef"
      },
      "outputs": [],
      "source": [
        "loss, accuracy = model.evaluate(X_test, y_test)\n",
        "print(f\"Test Accuracy: {accuracy * 100:.2f}%\")"
      ]
    },
    {
      "cell_type": "code",
      "execution_count": null,
      "metadata": {},
      "outputs": [],
      "source": [
        "# Save the model to a file\n",
        "model.save('trained_model.h5')\n",
        "print(\"Model saved to 'trained_model.h5'\")"
      ]
    }
  ],
  "metadata": {
    "colab": {
      "provenance": []
    },
    "kernelspec": {
      "display_name": "base",
      "language": "python",
      "name": "python3"
    },
    "language_info": {
      "codemirror_mode": {
        "name": "ipython",
        "version": 3
      },
      "file_extension": ".py",
      "mimetype": "text/x-python",
      "name": "python",
      "nbconvert_exporter": "python",
      "pygments_lexer": "ipython3",
      "version": "3.11.5"
    }
  },
  "nbformat": 4,
  "nbformat_minor": 0
}
