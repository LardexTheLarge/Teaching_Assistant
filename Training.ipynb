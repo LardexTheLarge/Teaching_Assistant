{
  "cells": [
    {
      "cell_type": "code",
      "execution_count": 1,
      "metadata": {
        "id": "pnOGdzQDN66H"
      },
      "outputs": [
        {
          "name": "stdout",
          "output_type": "stream",
          "text": [
            "WARNING:tensorflow:From c:\\Users\\Lardex\\anaconda3\\Lib\\site-packages\\keras\\src\\losses.py:2976: The name tf.losses.sparse_softmax_cross_entropy is deprecated. Please use tf.compat.v1.losses.sparse_softmax_cross_entropy instead.\n",
            "\n"
          ]
        }
      ],
      "source": [
        "import json\n",
        "import numpy as np\n",
        "import pandas as pd\n",
        "import tensorflow as tf\n",
        "import logging\n",
        "from io import StringIO\n",
        "from sklearn.model_selection import train_test_split\n",
        "from tensorflow.keras.preprocessing.sequence import pad_sequences\n",
        "\n",
        "# Configure logging\n",
        "logging.basicConfig(level=logging.INFO, format=\"%(asctime)s - %(message)s\")\n",
        "logger = logging.getLogger(__name__)\n",
        "\n",
        "\n",
        "cleaned_lines = []\n",
        "with open('processed_code.csv', 'r', encoding='utf-8') as file:\n",
        "    for line in file:\n",
        "        # Strip leading and trailing whitespaces and remove unclosed quotes\n",
        "        cleaned_lines.append(line.strip().replace('\"', ''))\n",
        "cleaned_content = \"\\n\".join(cleaned_lines)"
      ]
    },
    {
      "cell_type": "code",
      "execution_count": 2,
      "metadata": {},
      "outputs": [
        {
          "ename": "AttributeError",
          "evalue": "'str' object has no attribute 'sample'",
          "output_type": "error",
          "traceback": [
            "\u001b[1;31m---------------------------------------------------------------------------\u001b[0m",
            "\u001b[1;31mAttributeError\u001b[0m                            Traceback (most recent call last)",
            "Cell \u001b[1;32mIn[2], line 4\u001b[0m\n\u001b[0;32m      1\u001b[0m \u001b[38;5;66;03m# Load the CSV file\u001b[39;00m\n\u001b[0;32m      2\u001b[0m \u001b[38;5;66;03m# codeDf = pd.read_csv(cleaned_content)\u001b[39;00m\n\u001b[1;32m----> 4\u001b[0m df_sample \u001b[38;5;241m=\u001b[39m \u001b[43mcleaned_content\u001b[49m\u001b[38;5;241;43m.\u001b[39;49m\u001b[43msample\u001b[49m(frac\u001b[38;5;241m=\u001b[39m\u001b[38;5;241m0.1\u001b[39m, random_state\u001b[38;5;241m=\u001b[39m\u001b[38;5;241m42\u001b[39m)  \u001b[38;5;66;03m# Using 10% of the data\u001b[39;00m\n\u001b[0;32m      6\u001b[0m \u001b[38;5;66;03m# Extract comments and code from the DataFrame and ensure all entries are strings\u001b[39;00m\n\u001b[0;32m      7\u001b[0m df_sample[\u001b[38;5;124m'\u001b[39m\u001b[38;5;124mcomments\u001b[39m\u001b[38;5;124m'\u001b[39m] \u001b[38;5;241m=\u001b[39m df_sample[\u001b[38;5;124m'\u001b[39m\u001b[38;5;124mcomments\u001b[39m\u001b[38;5;124m'\u001b[39m]\u001b[38;5;241m.\u001b[39mastype(\u001b[38;5;28mstr\u001b[39m)\n",
            "\u001b[1;31mAttributeError\u001b[0m: 'str' object has no attribute 'sample'"
          ]
        }
      ],
      "source": [
        "# Load the CSV file\n",
        "# codeDf = pd.read_csv(cleaned_content)\n",
        "\n",
        "df_sample = cleaned_content.sample(frac=0.1, random_state=42)  # Using 10% of the data\n",
        "\n",
        "# Extract comments and code from the DataFrame and ensure all entries are strings\n",
        "df_sample['comments'] = df_sample['comments'].astype(str)\n",
        "df_sample['code'] = df_sample['code'].astype(str)\n",
        "comments = df_sample['comments'].dropna().tolist()\n",
        "code = df_sample['code'].dropna().tolist()"
      ]
    },
    {
      "cell_type": "code",
      "execution_count": null,
      "metadata": {},
      "outputs": [],
      "source": [
        "\n",
        "# Ensure there is data to process\n",
        "if not comments or not code:\n",
        "    logger.error(\"No comments or code found in the CSV file.\")\n",
        "    raise ValueError(\"The CSV file does not contain any comments or code.\")\n",
        "\n",
        "# Tokenize the comments and code\n",
        "tokenizer = tf.keras.preprocessing.text.Tokenizer()\n",
        "tokenizer.fit_on_texts(comments + code)\n",
        "\n",
        "comments_sequences = tokenizer.texts_to_sequences(comments)\n",
        "code_sequences = tokenizer.texts_to_sequences(code)\n",
        "\n",
        "# Padding sequences\n",
        "max_len = max(max(len(seq) for seq in comments_sequences), max(len(seq) for seq in code_sequences))\n",
        "comments_padded = pad_sequences(comments_sequences, maxlen=max_len, padding='post')\n",
        "code_padded = pad_sequences(code_sequences, maxlen=max_len, padding='post')\n",
        "\n",
        "# Combine data for training\n",
        "X = np.vstack((comments_padded, code_padded))\n",
        "y = np.array([0] * len(comments_padded) + [1] * len(code_padded))  # Assuming binary classification: 0 for comments, 1 for code\n",
        "\n",
        "# Split data\n",
        "try:\n",
        "    X_train, X_test, y_train, y_test = train_test_split(X, y, test_size=0.2, random_state=42)\n",
        "except ValueError as e:\n",
        "    logger.error(f\"Error during train-test split: {e}\")\n",
        "    raise\n"
      ]
    },
    {
      "cell_type": "code",
      "execution_count": null,
      "metadata": {},
      "outputs": [],
      "source": [
        "\n",
        "model = tf.keras.Sequential([\n",
        "    tf.keras.layers.Embedding(input_dim=len(tokenizer.word_index) + 1, output_dim=128, input_length=max_len),\n",
        "    tf.keras.layers.LSTM(128, return_sequences=True),\n",
        "    tf.keras.layers.LSTM(64),\n",
        "    tf.keras.layers.Dense(1, activation='sigmoid')\n",
        "])\n",
        "\n",
        "model.compile(optimizer='adam', loss='binary_crossentropy', metrics=['accuracy'])"
      ]
    },
    {
      "cell_type": "code",
      "execution_count": null,
      "metadata": {
        "id": "TkUIbdZ8N66M"
      },
      "outputs": [],
      "source": [
        "history = model.fit(X_train, y_train, epochs=10, batch_size=32, validation_split=0.2)"
      ]
    },
    {
      "cell_type": "code",
      "execution_count": null,
      "metadata": {
        "id": "ly78nZwJN66M",
        "outputId": "c9aaf44c-19b1-4bc7-867a-556e0ccc54ef"
      },
      "outputs": [
        {
          "name": "stdout",
          "output_type": "stream",
          "text": [
            "2/2 [==============================] - 1s 364ms/step - loss: 0.6937 - accuracy: 0.5000\n",
            "Test Accuracy: 50.00%\n"
          ]
        }
      ],
      "source": [
        "loss, accuracy = model.evaluate(X_test, y_test)\n",
        "print(f\"Test Accuracy: {accuracy * 100:.2f}%\")"
      ]
    }
  ],
  "metadata": {
    "colab": {
      "provenance": []
    },
    "kernelspec": {
      "display_name": "base",
      "language": "python",
      "name": "python3"
    },
    "language_info": {
      "codemirror_mode": {
        "name": "ipython",
        "version": 3
      },
      "file_extension": ".py",
      "mimetype": "text/x-python",
      "name": "python",
      "nbconvert_exporter": "python",
      "pygments_lexer": "ipython3",
      "version": "3.11.5"
    }
  },
  "nbformat": 4,
  "nbformat_minor": 0
}
