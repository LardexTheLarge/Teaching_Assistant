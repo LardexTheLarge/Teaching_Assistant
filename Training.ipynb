{
  "cells": [
    {
      "cell_type": "code",
      "execution_count": 10,
      "metadata": {
        "id": "pnOGdzQDN66H"
      },
      "outputs": [
        {
          "name": "stderr",
          "output_type": "stream",
          "text": [
            "2024-05-28 13:47:11,553 - CSV file loaded successfully.\n"
          ]
        }
      ],
      "source": [
        "import json\n",
        "import numpy as np\n",
        "import pandas as pd\n",
        "import tensorflow as tf\n",
        "import logging\n",
        "from io import StringIO\n",
        "from sklearn.model_selection import train_test_split\n",
        "from tensorflow.keras.preprocessing.sequence import pad_sequences\n",
        "\n",
        "# Configure logging\n",
        "logging.basicConfig(level=logging.INFO, format=\"%(asctime)s - %(message)s\")\n",
        "logger = logging.getLogger(__name__)\n",
        "\n",
        "# Load the CSV file directly into a DataFrame\n",
        "try:\n",
        "    codeDf = pd.read_csv('processed_code.csv', encoding='utf-8')\n",
        "    logger.info(\"CSV file loaded successfully.\")\n",
        "except FileNotFoundError as e:\n",
        "    logger.error(f\"CSV file not found: {e}\")\n",
        "    raise\n",
        "except pd.errors.ParserError as e:\n",
        "    logger.error(f\"Error parsing CSV file: {e}\")\n",
        "    raise\n",
        "except Exception as e:\n",
        "    logger.error(f\"An unexpected error occurred: {e}\")\n",
        "    raise\n",
        "\n",
        "# Clean a dataframe function\n",
        "def clean_dataframe(df):\n",
        "    for column in df.columns:\n",
        "        df[column] = df[column].astype(str).str.strip().str.replace('\"', '')\n",
        "    return df"
      ]
    },
    {
      "cell_type": "code",
      "execution_count": 11,
      "metadata": {},
      "outputs": [
        {
          "name": "stderr",
          "output_type": "stream",
          "text": [
            "2024-05-28 13:47:13,445 - DataFrame cleaned successfully.\n"
          ]
        }
      ],
      "source": [
        "# Clean the DataFrame content\n",
        "try:\n",
        "    codeDf = clean_dataframe(codeDf)\n",
        "    logger.info(\"DataFrame cleaned successfully.\")\n",
        "except Exception as e:\n",
        "    logger.error(f\"An error occurred while cleaning the DataFrame: {e}\")\n",
        "    raise"
      ]
    },
    {
      "cell_type": "code",
      "execution_count": 12,
      "metadata": {},
      "outputs": [
        {
          "name": "stderr",
          "output_type": "stream",
          "text": [
            "2024-05-28 13:47:15,988 - Data split into training and testing sets successfully.\n"
          ]
        }
      ],
      "source": [
        "# Check if the 'code' column is in the DataFrame\n",
        "if 'code' not in codeDf.columns:\n",
        "    logger.error(\"Required column 'code' is not found in the DataFrame.\")\n",
        "    raise KeyError(\"Required column 'code' is not found in the DataFrame.\")\n",
        "\n",
        "# Tokenize the code\n",
        "tokenizer = tf.keras.preprocessing.text.Tokenizer()\n",
        "tokenizer.fit_on_texts(codeDf['code'])\n",
        "\n",
        "code_sequences = tokenizer.texts_to_sequences(codeDf['code'])\n",
        "\n",
        "# Padding sequences\n",
        "max_len = max(len(seq) for seq in code_sequences)\n",
        "code_padded = pad_sequences(code_sequences, maxlen=max_len, padding='post')\n",
        "\n",
        "# Prepare labels (Assuming binary classification: all entries are code)\n",
        "X = code_padded\n",
        "y = np.ones(len(code_padded))  # Using 1 for all code entries, adjust as needed for your use case\n",
        "\n",
        "# Split data\n",
        "try:\n",
        "    X_train, X_test, y_train, y_test = train_test_split(X, y, test_size=0.2, random_state=42)\n",
        "    logger.info(\"Data split into training and testing sets successfully.\")\n",
        "except ValueError as e:\n",
        "    logger.error(f\"Error during train-test split: {e}\")\n",
        "    raise\n"
      ]
    },
    {
      "cell_type": "code",
      "execution_count": 24,
      "metadata": {},
      "outputs": [
        {
          "name": "stdout",
          "output_type": "stream",
          "text": [
            "Model: \"sequential_4\"\n",
            "_________________________________________________________________\n",
            " Layer (type)                Output Shape              Param #   \n",
            "=================================================================\n",
            " embedding_6 (Embedding)     (None, 1956, 128)         684672    \n",
            "                                                                 \n",
            " lstm_16 (LSTM)              (None, 1956, 150)         167400    \n",
            "                                                                 \n",
            " lstm_17 (LSTM)              (None, 1956, 150)         180600    \n",
            "                                                                 \n",
            " lstm_18 (LSTM)              (None, 150)               180600    \n",
            "                                                                 \n",
            " dense_5 (Dense)             (None, 5349)              807699    \n",
            "                                                                 \n",
            "=================================================================\n",
            "Total params: 2020971 (7.71 MB)\n",
            "Trainable params: 2020971 (7.71 MB)\n",
            "Non-trainable params: 0 (0.00 Byte)\n",
            "_________________________________________________________________\n"
          ]
        }
      ],
      "source": [
        "# Define the model\n",
        "model = tf.keras.Sequential([\n",
        "    tf.keras.layers.Embedding(input_dim=len(tokenizer.word_index) + 1, output_dim=128, input_length=max_len),\n",
        "    tf.keras.layers.LSTM(150, return_sequences=True),\n",
        "    tf.keras.layers.LSTM(150, return_sequences=True),\n",
        "    tf.keras.layers.LSTM(150),\n",
        "    tf.keras.layers.Dense(len(tokenizer.word_index) + 1, activation='relu')\n",
        "])\n",
        "\n",
        "# Compile the model\n",
        "model.compile(optimizer='adam', loss='sparse_categorical_crossentropy', metrics=['accuracy'])\n",
        "\n",
        "# Print the model summary\n",
        "model.summary()"
      ]
    },
    {
      "cell_type": "code",
      "execution_count": 25,
      "metadata": {
        "id": "TkUIbdZ8N66M"
      },
      "outputs": [
        {
          "name": "stdout",
          "output_type": "stream",
          "text": [
            "Epoch 1/128\n",
            "2/2 [==============================] - 274s 201s/step - loss: 17.2166 - accuracy: 0.0000e+00 - val_loss: 4.6681 - val_accuracy: 0.0093\n",
            "Epoch 2/128\n",
            "2/2 [==============================] - 163s 71s/step - loss: 4.1488 - accuracy: 0.3063 - val_loss: 0.5998 - val_accuracy: 1.0000\n",
            "Epoch 3/128\n",
            "2/2 [==============================] - 207s 136s/step - loss: 0.4632 - accuracy: 1.0000 - val_loss: 0.1307 - val_accuracy: 1.0000\n",
            "Epoch 4/128\n",
            "2/2 [==============================] - 222s 114s/step - loss: 0.1330 - accuracy: 1.0000 - val_loss: 0.0821 - val_accuracy: 1.0000\n",
            "Epoch 5/128\n",
            "2/2 [==============================] - 144s 85s/step - loss: 0.0728 - accuracy: 1.0000 - val_loss: 0.1359 - val_accuracy: 1.0000\n",
            "Epoch 6/128\n",
            "2/2 [==============================] - 212s 154s/step - loss: 0.1074 - accuracy: 1.0000 - val_loss: 0.0353 - val_accuracy: 1.0000\n",
            "Epoch 7/128\n",
            "2/2 [==============================] - 260s 158s/step - loss: 0.0348 - accuracy: 1.0000 - val_loss: 0.0267 - val_accuracy: 1.0000\n",
            "Epoch 8/128\n",
            "2/2 [==============================] - 237s 144s/step - loss: 0.0262 - accuracy: 1.0000 - val_loss: 0.0251 - val_accuracy: 1.0000\n",
            "Epoch 9/128\n",
            "2/2 [==============================] - 164s 102s/step - loss: 0.0243 - accuracy: 1.0000 - val_loss: 0.0315 - val_accuracy: 1.0000\n",
            "Epoch 10/128\n",
            "2/2 [==============================] - 161s 101s/step - loss: 0.0325 - accuracy: 1.0000 - val_loss: 0.0247 - val_accuracy: 1.0000\n",
            "Epoch 11/128\n",
            "2/2 [==============================] - 160s 103s/step - loss: 0.0241 - accuracy: 1.0000 - val_loss: 0.0187 - val_accuracy: 1.0000\n",
            "Epoch 12/128\n",
            "2/2 [==============================] - 162s 104s/step - loss: 0.0186 - accuracy: 1.0000 - val_loss: 0.0203 - val_accuracy: 1.0000\n",
            "Epoch 13/128\n",
            "2/2 [==============================] - 163s 105s/step - loss: 0.0197 - accuracy: 1.0000 - val_loss: 0.0182 - val_accuracy: 1.0000\n",
            "Epoch 14/128\n",
            "2/2 [==============================] - 166s 107s/step - loss: 0.0182 - accuracy: 1.0000 - val_loss: 0.0180 - val_accuracy: 1.0000\n",
            "Epoch 15/128\n",
            "2/2 [==============================] - 167s 106s/step - loss: 0.0180 - accuracy: 1.0000 - val_loss: 0.0176 - val_accuracy: 1.0000\n",
            "Epoch 16/128\n",
            "2/2 [==============================] - 11982s 195s/step - loss: 0.0175 - accuracy: 1.0000 - val_loss: 0.0171 - val_accuracy: 1.0000\n",
            "Epoch 17/128\n",
            "2/2 [==============================] - 295s 192s/step - loss: 0.0171 - accuracy: 1.0000 - val_loss: 0.0166 - val_accuracy: 1.0000\n",
            "Epoch 18/128\n",
            "2/2 [==============================] - 307s 216s/step - loss: 0.0165 - accuracy: 1.0000 - val_loss: 0.0161 - val_accuracy: 1.0000\n",
            "Epoch 19/128\n",
            "2/2 [==============================] - 384s 262s/step - loss: 0.0160 - accuracy: 1.0000 - val_loss: 0.0156 - val_accuracy: 1.0000\n",
            "Epoch 20/128\n",
            "2/2 [==============================] - 16241s 186s/step - loss: 0.0155 - accuracy: 1.0000 - val_loss: 0.0154 - val_accuracy: 1.0000\n",
            "Epoch 21/128\n",
            "2/2 [==============================] - 233s 150s/step - loss: 0.0152 - accuracy: 1.0000 - val_loss: 0.0145 - val_accuracy: 1.0000\n",
            "Epoch 22/128\n",
            "2/2 [==============================] - 239s 160s/step - loss: 0.0144 - accuracy: 1.0000 - val_loss: 0.0139 - val_accuracy: 1.0000\n",
            "Epoch 23/128\n",
            "2/2 [==============================] - 265s 168s/step - loss: 0.0143 - accuracy: 1.0000 - val_loss: 0.0164 - val_accuracy: 1.0000\n",
            "Epoch 24/128\n",
            "1/2 [==============>...............] - ETA: 1:30 - loss: 0.0164 - accuracy: 1.0000"
          ]
        }
      ],
      "source": [
        "history = model.fit(X_train, y_train, epochs=128, batch_size=300, validation_split=0.2)"
      ]
    },
    {
      "cell_type": "code",
      "execution_count": null,
      "metadata": {
        "id": "ly78nZwJN66M",
        "outputId": "c9aaf44c-19b1-4bc7-867a-556e0ccc54ef"
      },
      "outputs": [
        {
          "name": "stdout",
          "output_type": "stream",
          "text": [
            "5/5 [==============================] - 2s 453ms/step - loss: 9.7232e-05 - accuracy: 1.0000\n",
            "Test Accuracy: 100.00%\n"
          ]
        }
      ],
      "source": [
        "loss, accuracy = model.evaluate(X_test, y_test)\n",
        "print(f\"Test Accuracy: {accuracy * 100:.2f}%\")"
      ]
    }
  ],
  "metadata": {
    "colab": {
      "provenance": []
    },
    "kernelspec": {
      "display_name": "base",
      "language": "python",
      "name": "python3"
    },
    "language_info": {
      "codemirror_mode": {
        "name": "ipython",
        "version": 3
      },
      "file_extension": ".py",
      "mimetype": "text/x-python",
      "name": "python",
      "nbconvert_exporter": "python",
      "pygments_lexer": "ipython3",
      "version": "3.11.5"
    }
  },
  "nbformat": 4,
  "nbformat_minor": 0
}
