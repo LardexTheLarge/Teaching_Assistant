{
 "cells": [
  {
   "cell_type": "code",
   "execution_count": 1,
   "metadata": {},
   "outputs": [
    {
     "name": "stdout",
     "output_type": "stream",
     "text": [
      "WARNING:tensorflow:From c:\\Users\\Lardex\\anaconda3\\Lib\\site-packages\\keras\\src\\losses.py:2976: The name tf.losses.sparse_softmax_cross_entropy is deprecated. Please use tf.compat.v1.losses.sparse_softmax_cross_entropy instead.\n",
      "\n"
     ]
    }
   ],
   "source": [
    "import os\n",
    "import pandas as pd\n",
    "import spacy\n",
    "from nbformat import read, NO_CONVERT\n",
    "from keras.preprocessing.text import Tokenizer\n",
    "from keras.utils import to_categorical\n",
    "from keras.models import Sequential\n",
    "from keras.layers import Embedding, LSTM, Dense\n",
    "from random import randint\n",
    "from pickle import dump, load\n",
    "from keras_preprocessing.sequence import pad_sequences\n",
    "import numpy as np\n",
    "\n",
    "# Load SpaCy large English model and disable unnecessary components\n",
    "nlp = spacy.load('en_core_web_lg', disable=[\"tagger\", \"ner\", \"lemmatizer\"])\n",
    "\n",
    "# Function to read a file\n",
    "def read_file(filepath):\n",
    "    with open(filepath, 'r') as file:\n",
    "        return file.read()\n",
    "\n",
    "# Function to remove punctuation\n",
    "def separate_punc(md_text):\n",
    "    return [token.text.lower() for token in nlp(md_text) if token.text not in '\\n\\n \\n\\n\\n!\"-#$%&()--.*+,-/:;<=>?@[\\\\]^_`{|}~\\t\\n']\n",
    "\n",
    "# Function to extract code from notebooks\n",
    "def extract_code_from_notebooks(directory):\n",
    "    code_files_content = []\n",
    "    for root, _, files in os.walk(directory):\n",
    "        for file in files:\n",
    "            if file.endswith('.ipynb'):\n",
    "                file_path = os.path.join(root, file)\n",
    "                with open(file_path, 'r', encoding='utf-8') as f:\n",
    "                    try:\n",
    "                        notebook = read(f, NO_CONVERT)\n",
    "                        code_cells = [cell['source'] for cell in notebook['cells'] if cell['cell_type'] == 'code']\n",
    "                        code_files_content.append('\\n'.join(code_cells))\n",
    "                    except Exception as e:\n",
    "                        print(f\"Error processing {file_path}: {e}\")\n",
    "    return code_files_content"
   ]
  },
  {
   "cell_type": "code",
   "execution_count": 2,
   "metadata": {},
   "outputs": [
    {
     "name": "stderr",
     "output_type": "stream",
     "text": [
      "c:\\Users\\Lardex\\anaconda3\\Lib\\site-packages\\nbformat\\__init__.py:93: MissingIDFieldWarning: Code cell is missing an id field, this will become a hard error in future nbformat versions. You may want to use `normalize()` on your notebooks before validations (available since nbformat 5.1.4). Previous versions of nbformat are fixing this issue transparently, and will stop doing so in the future.\n",
      "  validate(nb)\n"
     ]
    },
    {
     "name": "stdout",
     "output_type": "stream",
     "text": [
      "Error processing C:\\Users\\Lardex\\Desktop\\DU Assginments\\AI_BOOTCAMP\\DU-VIRT-AI-PT-10-2023-U-LOLC\\01-Lesson-Plans\\20-NLP\\1\\Activities\\03-Ins_Stopwords\\Solved\\stopwords_solution1.ipynb: Notebook does not appear to be JSON: ''\n",
      "Error processing C:\\Users\\Lardex\\Desktop\\DU Assginments\\AI_BOOTCAMP\\DU-VIRT-AI-PT-10-2023-U-LOLC\\01-Lesson-Plans\\21-Transformers\\3\\Activities\\03-Ins_Gradio_Text_Summarization\\blocks_gradio.ipynb: Notebook does not appear to be JSON: ''\n"
     ]
    }
   ],
   "source": [
    "\n",
    "# Extract code from notebooks\n",
    "directory = 'C:\\\\Users\\\\Lardex\\\\Desktop\\\\DU Assginments\\\\AI_BOOTCAMP\\\\DU-VIRT-AI-PT-10-2023-U-LOLC'\n",
    "code_contents = extract_code_from_notebooks(directory)\n",
    "\n",
    "# Save the extracted code to a CSV file\n",
    "df_code = pd.DataFrame(code_contents, columns=['code'])\n",
    "df_code.to_csv('extracted_code.csv', index=False)\n",
    "\n",
    "# Load CSV into DataFrame\n",
    "df = pd.read_csv('extracted_code.csv')\n",
    "\n",
    "# Tokenize the code from the DataFrame\n",
    "tokens = []\n",
    "for code in df['code']:\n",
    "    tokens.extend(separate_punc(code))\n",
    "\n",
    "# Generate sequences of tokens\n",
    "train_len = 26\n",
    "text_sequences = [tokens[i-train_len:i] for i in range(train_len, len(tokens))]\n",
    "\n",
    "# Initialize and fit the tokenizer\n",
    "tokenizer = Tokenizer()\n",
    "tokenizer.fit_on_texts(text_sequences)\n",
    "\n",
    "# Convert text sequences to numerical sequences\n",
    "sequences = tokenizer.texts_to_sequences(text_sequences)\n",
    "num_sequences = np.array(sequences)\n",
    "\n",
    "# Prepare input and output variables\n",
    "X = num_sequences[:,:-1]\n",
    "y = num_sequences[:,-1]\n",
    "y = to_categorical(y, num_classes=len(tokenizer.word_index)+1)"
   ]
  },
  {
   "cell_type": "code",
   "execution_count": null,
   "metadata": {},
   "outputs": [],
   "source": [
    "\n",
    "# Define the LSTM model\n",
    "def create_model(vocabulary_size, seq_len):\n",
    "    model = Sequential()\n",
    "    model.add(Embedding(vocabulary_size, 25, input_length=seq_len))\n",
    "    model.add(LSTM(150, return_sequences=True))\n",
    "    model.add(LSTM(150))\n",
    "    model.add(Dense(150, activation='relu'))\n",
    "    model.add(Dense(vocabulary_size, activation='softmax'))\n",
    "    model.compile(loss='categorical_crossentropy', optimizer='adam', metrics=['accuracy'])\n",
    "    return model\n",
    "\n",
    "# Create and compile the model\n",
    "model = create_model(len(tokenizer.word_index)+1, X.shape[1])\n",
    "model.summary()\n",
    "\n",
    "# Train the model\n",
    "model.fit(X, y, batch_size=128, epochs=300, verbose=1)\n",
    "\n",
    "# Save the model and tokenizer\n",
    "model.save('notebooks_code_model_300.keras')\n",
    "dump(tokenizer, open('notebooks_code_tokenizer_300', 'wb'))"
   ]
  },
  {
   "cell_type": "code",
   "execution_count": null,
   "metadata": {},
   "outputs": [],
   "source": [
    "# Function to generate text\n",
    "def generate_text(model, tokenizer, seq_len, seed_text, num_gen_words):\n",
    "    output_text = []\n",
    "    input_text = seed_text\n",
    "    for _ in range(num_gen_words):\n",
    "        encoded_text = tokenizer.texts_to_sequences([input_text])[0]\n",
    "        pad_encoded = pad_sequences([encoded_text], maxlen=seq_len, truncating='pre')\n",
    "        pred_w = model.predict(pad_encoded, verbose=0)[0]\n",
    "        pred_word_ind = np.argmax(pred_w, axis=-1)\n",
    "        pred_word = tokenizer.index_word[pred_word_ind]\n",
    "        input_text += ' ' + pred_word\n",
    "        output_text.append(pred_word)\n",
    "    return ' '.join(output_text)\n",
    "\n",
    "# Load the trained model and tokenizer\n",
    "model = load_model('notebooks_code_model_300.keras')\n",
    "tokenizer = load(open('notebooks_code_tokenizer_300', 'rb'))\n",
    "\n",
    "# Test the text generation\n",
    "random_seed_text = ' '.join(text_sequences[randint(0, len(text_sequences))])\n",
    "print(generate_text(model, tokenizer, X.shape[1], random_seed_text, 25))"
   ]
  }
 ],
 "metadata": {
  "kernelspec": {
   "display_name": "base",
   "language": "python",
   "name": "python3"
  },
  "language_info": {
   "codemirror_mode": {
    "name": "ipython",
    "version": 3
   },
   "file_extension": ".py",
   "mimetype": "text/x-python",
   "name": "python",
   "nbconvert_exporter": "python",
   "pygments_lexer": "ipython3",
   "version": "3.11.5"
  }
 },
 "nbformat": 4,
 "nbformat_minor": 2
}
