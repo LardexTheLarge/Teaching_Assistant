{
 "cells": [
  {
   "cell_type": "code",
   "execution_count": 19,
   "metadata": {},
   "outputs": [],
   "source": [
    "import os\n",
    "import nltk\n",
    "import re\n",
    "import pandas as pd\n",
    "# Import stopwords database from the nltk corpus \n",
    "from nltk.corpus import stopwords\n",
    "from nltk.tokenize import word_tokenize\n",
    "\n",
    "# Define stopwords\n",
    "stop_words = set(stopwords.words('english'))"
   ]
  },
  {
   "cell_type": "code",
   "execution_count": 20,
   "metadata": {},
   "outputs": [],
   "source": [
    "def read_files_in_directory(directory):\n",
    "    code_files_content = []\n",
    "    for root, _, files in os.walk(directory):\n",
    "        for file in files:\n",
    "            if file.endswith(('.py', '.ipynb')):  # Add more file extensions as needed\n",
    "                file_path = os.path.join(root, file)\n",
    "                with open(file_path, 'r', encoding='utf-8') as f:\n",
    "                    code_files_content.append(f.read())\n",
    "    return code_files_content"
   ]
  },
  {
   "cell_type": "code",
   "execution_count": 21,
   "metadata": {},
   "outputs": [],
   "source": [
    "def extract_comments_and_code(text):\n",
    "    comments = []\n",
    "    code = []\n",
    "    for line in text.split('\\n'):\n",
    "        line = line.strip()\n",
    "        # Assuming single-line comments for simplicity; adjust regex for multi-line comments\n",
    "        if line.startswith('#') or line.startswith('//') or re.match(r'^\\s*/\\*.*\\*/\\s*$', line):\n",
    "            comments.append(line)\n",
    "        else:\n",
    "            code.append(line)\n",
    "    return ' '.join(comments), ' '.join(code)\n",
    "\n",
    "def tokenize_and_remove_stopwords(text):\n",
    "    tokens = word_tokenize(text)\n",
    "    filtered_tokens = [token for token in tokens if token.lower() not in stop_words]\n",
    "    return filtered_tokens"
   ]
  },
  {
   "cell_type": "code",
   "execution_count": 22,
   "metadata": {},
   "outputs": [],
   "source": [
    "# Path to your code directory\n",
    "code_directory = 'C:\\\\Users\\\\Lardex\\\\Desktop\\\\DU Assginments\\\\AI_BOOTCAMP\\\\DU-VIRT-AI-PT-10-2023-U-LOLC'\n",
    "code_files_content = read_files_in_directory(code_directory)"
   ]
  },
  {
   "cell_type": "code",
   "execution_count": 23,
   "metadata": {},
   "outputs": [],
   "source": [
    "processed_data = []\n",
    "\n",
    "for code in code_files_content:\n",
    "    comments, code_only = extract_comments_and_code(code)\n",
    "    tokenized_comments = tokenize_and_remove_stopwords(comments)\n",
    "    tokenized_code = word_tokenize(code_only)  # Do not remove stopwords from code\n",
    "    processed_data.append({\n",
    "        \"comments\": ' '.join(tokenized_comments),\n",
    "        \"code\": ' '.join(tokenized_code)\n",
    "    })"
   ]
  },
  {
   "cell_type": "code",
   "execution_count": 26,
   "metadata": {},
   "outputs": [
    {
     "data": {
      "text/html": [
       "<div>\n",
       "<style scoped>\n",
       "    .dataframe tbody tr th:only-of-type {\n",
       "        vertical-align: middle;\n",
       "    }\n",
       "\n",
       "    .dataframe tbody tr th {\n",
       "        vertical-align: top;\n",
       "    }\n",
       "\n",
       "    .dataframe thead th {\n",
       "        text-align: right;\n",
       "    }\n",
       "</style>\n",
       "<table border=\"1\" class=\"dataframe\">\n",
       "  <thead>\n",
       "    <tr style=\"text-align: right;\">\n",
       "      <th></th>\n",
       "      <th>comments</th>\n",
       "      <th>code</th>\n",
       "    </tr>\n",
       "  </thead>\n",
       "  <tbody>\n",
       "    <tr>\n",
       "      <th>0</th>\n",
       "      <td># Create variable called 'profession ' string ...</td>\n",
       "      <td>profession = `` software engineer '' years = 2...</td>\n",
       "    </tr>\n",
       "    <tr>\n",
       "      <th>1</th>\n",
       "      <td># Create variable called 'profession ' string ...</td>\n",
       "      <td></td>\n",
       "    </tr>\n",
       "    <tr>\n",
       "      <th>2</th>\n",
       "      <td># Create variable called 'full_name ' holds st...</td>\n",
       "      <td>full_name = `` Farid Ismail '' country_to_visi...</td>\n",
       "    </tr>\n",
       "    <tr>\n",
       "      <th>3</th>\n",
       "      <td># Create variable called 'full_name ' holds st...</td>\n",
       "      <td></td>\n",
       "    </tr>\n",
       "    <tr>\n",
       "      <th>4</th>\n",
       "      <td># Collect user 's input prompt `` name ? '' # ...</td>\n",
       "      <td>user_name = input ( `` What is your name ? `` ...</td>\n",
       "    </tr>\n",
       "    <tr>\n",
       "      <th>...</th>\n",
       "      <td>...</td>\n",
       "      <td>...</td>\n",
       "    </tr>\n",
       "    <tr>\n",
       "      <th>831</th>\n",
       "      <td># apikey import apikey # langchain.chains impo...</td>\n",
       "      <td>import os import streamlit as st from langchai...</td>\n",
       "    </tr>\n",
       "    <tr>\n",
       "      <th>832</th>\n",
       "      <td># apikey import apikey # langchain.chains impo...</td>\n",
       "      <td>import os import streamlit as st from langchai...</td>\n",
       "    </tr>\n",
       "    <tr>\n",
       "      <th>833</th>\n",
       "      <td># Import Streamlit library # Title web applica...</td>\n",
       "      <td>import streamlit as st st.title ( 'My First St...</td>\n",
       "    </tr>\n",
       "    <tr>\n",
       "      <th>834</th>\n",
       "      <td># Import Streamlit library # Add title context...</td>\n",
       "      <td>import streamlit as st st.title ( 'Document Up...</td>\n",
       "    </tr>\n",
       "    <tr>\n",
       "      <th>835</th>\n",
       "      <td># Import Streamlit library # Add title context...</td>\n",
       "      <td>import streamlit as st from langchain.text_spl...</td>\n",
       "    </tr>\n",
       "  </tbody>\n",
       "</table>\n",
       "<p>836 rows × 2 columns</p>\n",
       "</div>"
      ],
      "text/plain": [
       "                                              comments  \\\n",
       "0    # Create variable called 'profession ' string ...   \n",
       "1    # Create variable called 'profession ' string ...   \n",
       "2    # Create variable called 'full_name ' holds st...   \n",
       "3    # Create variable called 'full_name ' holds st...   \n",
       "4    # Collect user 's input prompt `` name ? '' # ...   \n",
       "..                                                 ...   \n",
       "831  # apikey import apikey # langchain.chains impo...   \n",
       "832  # apikey import apikey # langchain.chains impo...   \n",
       "833  # Import Streamlit library # Title web applica...   \n",
       "834  # Import Streamlit library # Add title context...   \n",
       "835  # Import Streamlit library # Add title context...   \n",
       "\n",
       "                                                  code  \n",
       "0    profession = `` software engineer '' years = 2...  \n",
       "1                                                       \n",
       "2    full_name = `` Farid Ismail '' country_to_visi...  \n",
       "3                                                       \n",
       "4    user_name = input ( `` What is your name ? `` ...  \n",
       "..                                                 ...  \n",
       "831  import os import streamlit as st from langchai...  \n",
       "832  import os import streamlit as st from langchai...  \n",
       "833  import streamlit as st st.title ( 'My First St...  \n",
       "834  import streamlit as st st.title ( 'Document Up...  \n",
       "835  import streamlit as st from langchain.text_spl...  \n",
       "\n",
       "[836 rows x 2 columns]"
      ]
     },
     "execution_count": 26,
     "metadata": {},
     "output_type": "execute_result"
    }
   ],
   "source": [
    "# Convert the processed data to a DataFrame\n",
    "df = pd.DataFrame(processed_data)\n",
    "df\n"
   ]
  },
  {
   "cell_type": "code",
   "execution_count": null,
   "metadata": {},
   "outputs": [],
   "source": [
    "\n",
    "# Save the DataFrame to a CSV file\n",
    "df.to_csv('processed_code.csv', index=False)"
   ]
  }
 ],
 "metadata": {
  "kernelspec": {
   "display_name": "base",
   "language": "python",
   "name": "python3"
  },
  "language_info": {
   "codemirror_mode": {
    "name": "ipython",
    "version": 3
   },
   "file_extension": ".py",
   "mimetype": "text/x-python",
   "name": "python",
   "nbconvert_exporter": "python",
   "pygments_lexer": "ipython3",
   "version": "3.11.5"
  }
 },
 "nbformat": 4,
 "nbformat_minor": 2
}
