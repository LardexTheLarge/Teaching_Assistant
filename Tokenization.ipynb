{
 "cells": [
  {
   "cell_type": "code",
   "execution_count": 4,
   "metadata": {},
   "outputs": [
    {
     "name": "stderr",
     "output_type": "stream",
     "text": [
      "[nltk_data] Downloading package punkt to\n",
      "[nltk_data]     C:\\Users\\Lardex\\AppData\\Roaming\\nltk_data...\n",
      "[nltk_data]   Package punkt is already up-to-date!\n"
     ]
    },
    {
     "data": {
      "text/plain": [
       "True"
      ]
     },
     "execution_count": 4,
     "metadata": {},
     "output_type": "execute_result"
    }
   ],
   "source": [
    "import os\n",
    "import nltk\n",
    "from nltk.tokenize import word_tokenize\n",
    "\n",
    "# Download NLTK data files (you can skip this step if already downloaded)\n",
    "nltk.download('punkt')"
   ]
  },
  {
   "cell_type": "code",
   "execution_count": null,
   "metadata": {},
   "outputs": [],
   "source": [
    "def read_files_in_directory(directory):\n",
    "    code_files_content = []\n",
    "    for root, _, files in os.walk(directory):\n",
    "        for file in files:\n",
    "            if file.endswith(('.py', '.ipynb', '.md')):  # Add more file extensions as needed\n",
    "                file_path = os.path.join(root, file)\n",
    "                with open(file_path, 'r', encoding='utf-8') as f:\n",
    "                    code_files_content.append(f.read())\n",
    "    return code_files_content\n",
    "\n",
    "# Path to your code directory\n",
    "code_directory = 'C:\\\\Users\\\\Lardex\\\\Desktop\\\\DU Assginments\\\\AI_BOOTCAMP\\\\DU-VIRT-AI-PT-10-2023-U-LOLC\\\\01-Lesson-Plans\\\\01-Introduction-to-AI'\n",
    "# code_directory = 'C:\\\\Users\\\\Lardex\\\\Desktop\\\\DU Assginments\\\\AI_BOOTCAMP\\\\DU-VIRT-AI-PT-10-2023-U-LOLC'\n",
    "code_files_content = read_files_in_directory(code_directory)"
   ]
  }
 ],
 "metadata": {
  "kernelspec": {
   "display_name": "base",
   "language": "python",
   "name": "python3"
  },
  "language_info": {
   "codemirror_mode": {
    "name": "ipython",
    "version": 3
   },
   "file_extension": ".py",
   "mimetype": "text/x-python",
   "name": "python",
   "nbconvert_exporter": "python",
   "pygments_lexer": "ipython3",
   "version": "3.11.5"
  }
 },
 "nbformat": 4,
 "nbformat_minor": 2
}
