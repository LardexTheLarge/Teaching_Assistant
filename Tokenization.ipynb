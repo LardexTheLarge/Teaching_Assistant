{
 "cells": [
  {
   "cell_type": "code",
   "execution_count": 5,
   "metadata": {},
   "outputs": [],
   "source": [
    "import os\n",
    "import nltk\n",
    "import re\n",
    "from nbformat import read, NO_CONVERT\n",
    "import pandas as pd\n",
    "from nltk.tokenize import word_tokenize\n",
    "from tensorflow.keras.preprocessing.text import Tokenizer\n",
    "import json"
   ]
  },
  {
   "cell_type": "code",
   "execution_count": 6,
   "metadata": {},
   "outputs": [],
   "source": [
    "def extract_code_from_notebooks(directory):\n",
    "    \"\"\"\n",
    "    Extracts code from all Jupyter Notebook files in the given directory.\n",
    "\n",
    "    Args:\n",
    "    - directory (str): The path to the directory containing the notebooks.\n",
    "\n",
    "    Returns:\n",
    "    - List of strings, each containing concatenated code from a notebook.\n",
    "    \"\"\"\n",
    "    code_files_content = []\n",
    "    for root, _, files in os.walk(directory):\n",
    "        for file in files:\n",
    "            if file.endswith('.ipynb'):\n",
    "                file_path = os.path.join(root, file)\n",
    "                with open(file_path, 'r', encoding='utf-8') as f:\n",
    "                    try:\n",
    "                        notebook = read(f, NO_CONVERT)\n",
    "                        code_cells = [cell['source'] for cell in notebook['cells'] if cell['cell_type'] == 'code']\n",
    "                        code_files_content.append('\\n'.join(code_cells))\n",
    "                    except Exception as e:\n",
    "                        print(f\"Error processing {file_path}: {e}\")\n",
    "    return code_files_content\n",
    "\n",
    "def extract_code(text):\n",
    "    \"\"\"\n",
    "    Extracts code lines from a given text.\n",
    "\n",
    "    Args:\n",
    "    - text (str): The text to extract code from.\n",
    "\n",
    "    Returns:\n",
    "    - str: A single string containing all code lines.\n",
    "    \"\"\"\n",
    "    code = []\n",
    "    for line in text.split('\\n'):\n",
    "        line = line.strip()\n",
    "        code.append(line)\n",
    "    return ' '.join(code)\n",
    "\n",
    "def process_notebooks_to_dataframe(directory):\n",
    "    \"\"\"\n",
    "    Processes Jupyter Notebooks in the specified directory into a DataFrame.\n",
    "\n",
    "    Args:\n",
    "    - directory (str): The path to the directory containing the notebooks.\n",
    "\n",
    "    Returns:\n",
    "    - DataFrame: A pandas DataFrame containing the tokenized code from notebooks.\n",
    "    \"\"\"\n",
    "    # Extract code from notebooks\n",
    "    code_files_content = extract_code_from_notebooks(directory)\n",
    "\n",
    "    # Process each code file\n",
    "    processed_data = []\n",
    "    for code in code_files_content:\n",
    "        code_only = extract_code(code)\n",
    "        tokenized_code = word_tokenize(code_only)\n",
    "        # Flatten the list of words into individual rows\n",
    "        for word in tokenized_code:\n",
    "            processed_data.append({\"word\": word})\n",
    "\n",
    "    # Convert the processed data to a DataFrame\n",
    "    df = pd.DataFrame(processed_data)\n",
    "    return df\n",
    "\n",
    "def save_dataframe_to_csv(df, filename):\n",
    "    \"\"\"\n",
    "    Saves the DataFrame to a CSV file.\n",
    "\n",
    "    Args:\n",
    "    - df (DataFrame): The DataFrame to save.\n",
    "    - filename (str): The path to the file where the DataFrame will be saved.\n",
    "    \"\"\"\n",
    "    df.to_csv(filename, index=False)\n",
    "\n",
    "def fit_and_save_tokenizer(df, tokenizer_path):\n",
    "    \"\"\"\n",
    "    Fits a tokenizer on the DataFrame's 'code' column and saves it to a file.\n",
    "\n",
    "    Args:\n",
    "    - df (DataFrame): The DataFrame containing the tokenized code.\n",
    "    - tokenizer_path (str): The path to the file where the tokenizer will be saved.\n",
    "    \"\"\"\n",
    "    # Fit the tokenizer on the 'code' column\n",
    "    tokenizer = Tokenizer()\n",
    "    tokenizer.fit_on_texts(df['word'].apply(lambda x: ' '.join(x)).values)\n",
    "\n",
    "    # Save the tokenizer\n",
    "    with open(tokenizer_path, 'w') as f:\n",
    "        json.dump(tokenizer.to_json(), f)\n",
    "    print(f\"Tokenizer saved to {tokenizer_path}\")"
   ]
  },
  {
   "cell_type": "code",
   "execution_count": 7,
   "metadata": {},
   "outputs": [
    {
     "name": "stdout",
     "output_type": "stream",
     "text": [
      "Error processing C:\\Users\\Lardex\\Desktop\\DU Assginments\\AI_BOOTCAMP\\DU-VIRT-AI-PT-10-2023-U-LOLC\\01-Lesson-Plans\\20-NLP\\1\\Activities\\03-Ins_Stopwords\\Solved\\stopwords_solution1.ipynb: Notebook does not appear to be JSON: ''\n",
      "Error processing C:\\Users\\Lardex\\Desktop\\DU Assginments\\AI_BOOTCAMP\\DU-VIRT-AI-PT-10-2023-U-LOLC\\01-Lesson-Plans\\21-Transformers\\3\\Activities\\03-Ins_Gradio_Text_Summarization\\blocks_gradio.ipynb: Notebook does not appear to be JSON: ''\n"
     ]
    }
   ],
   "source": [
    "# Path to your code directory\n",
    "code_directory = 'C:\\\\Users\\\\Lardex\\\\Desktop\\\\DU Assginments\\\\AI_BOOTCAMP\\\\DU-VIRT-AI-PT-10-2023-U-LOLC'\n",
    "\n",
    "# Process notebooks and save to CSV\n",
    "df = process_notebooks_to_dataframe(code_directory)\n",
    "save_dataframe_to_csv(df, 'processed_code.csv')"
   ]
  },
  {
   "cell_type": "code",
   "execution_count": 8,
   "metadata": {},
   "outputs": [
    {
     "name": "stdout",
     "output_type": "stream",
     "text": [
      "Tokenizer saved to tokenizer.json\n"
     ]
    }
   ],
   "source": [
    "# Fit and save the tokenizer\n",
    "fit_and_save_tokenizer(df, 'tokenizer.json')"
   ]
  }
 ],
 "metadata": {
  "kernelspec": {
   "display_name": "base",
   "language": "python",
   "name": "python3"
  },
  "language_info": {
   "codemirror_mode": {
    "name": "ipython",
    "version": 3
   },
   "file_extension": ".py",
   "mimetype": "text/x-python",
   "name": "python",
   "nbconvert_exporter": "python",
   "pygments_lexer": "ipython3",
   "version": "3.11.5"
  }
 },
 "nbformat": 4,
 "nbformat_minor": 2
}
