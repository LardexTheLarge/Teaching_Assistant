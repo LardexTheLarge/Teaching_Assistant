{
 "cells": [
  {
   "cell_type": "code",
   "execution_count": 6,
   "metadata": {},
   "outputs": [],
   "source": [
    "import gradio as gr\n",
    "import tensorflow as tf\n",
    "import numpy as np\n",
    "from tensorflow.keras.preprocessing.text import tokenizer_from_json\n",
    "import json\n",
    "\n",
    "# Load the trained model\n",
    "model = tf.keras.models.load_model('trained_model.h5')"
   ]
  },
  {
   "cell_type": "code",
   "execution_count": 7,
   "metadata": {},
   "outputs": [],
   "source": [
    "# Load the tokenizer from the file\n",
    "with open('tokenizer.json') as f:\n",
    "    data = json.load(f)\n",
    "    tokenizer = tokenizer_from_json(data)"
   ]
  },
  {
   "cell_type": "code",
   "execution_count": 8,
   "metadata": {},
   "outputs": [],
   "source": [
    "# Define a function to preprocess the input text and generate a response\n",
    "def preprocess_and_predict(question):\n",
    "    # Tokenize the input question\n",
    "    sequences = tokenizer.texts_to_sequences([question])\n",
    "    max_len = max(len(seq) for seq in sequences)\n",
    "    padded_sequences = tf.keras.preprocessing.sequence.pad_sequences(sequences, maxlen=max_len)\n",
    "    \n",
    "    # Get the model's prediction\n",
    "    prediction = model.predict(padded_sequences)\n",
    "    \n",
    "    # Convert the prediction to text\n",
    "    response_tokens = np.argmax(prediction, axis=-1).flatten()\n",
    "    response_text = tokenizer.sequences_to_texts([response_tokens])\n",
    "    \n",
    "    return response_text[0]"
   ]
  },
  {
   "cell_type": "code",
   "execution_count": 9,
   "metadata": {},
   "outputs": [
    {
     "name": "stdout",
     "output_type": "stream",
     "text": [
      "Running on local URL:  http://127.0.0.1:7861\n",
      "\n",
      "To create a public link, set `share=True` in `launch()`.\n"
     ]
    },
    {
     "data": {
      "text/html": [
       "<div><iframe src=\"http://127.0.0.1:7861/\" width=\"100%\" height=\"500\" allow=\"autoplay; camera; microphone; clipboard-read; clipboard-write;\" frameborder=\"0\" allowfullscreen></iframe></div>"
      ],
      "text/plain": [
       "<IPython.core.display.HTML object>"
      ]
     },
     "metadata": {},
     "output_type": "display_data"
    },
    {
     "data": {
      "text/plain": []
     },
     "execution_count": 9,
     "metadata": {},
     "output_type": "execute_result"
    },
    {
     "name": "stdout",
     "output_type": "stream",
     "text": [
      "IMPORTANT: You are using gradio version 4.24.0, however version 4.29.0 is available, please upgrade.\n",
      "--------\n"
     ]
    },
    {
     "name": "stderr",
     "output_type": "stream",
     "text": [
      "Traceback (most recent call last):\n",
      "  File \"c:\\Users\\Lardex\\anaconda3\\Lib\\site-packages\\gradio\\queueing.py\", line 522, in process_events\n",
      "    response = await route_utils.call_process_api(\n",
      "               ^^^^^^^^^^^^^^^^^^^^^^^^^^^^^^^^^^^\n",
      "  File \"c:\\Users\\Lardex\\anaconda3\\Lib\\site-packages\\gradio\\route_utils.py\", line 260, in call_process_api\n",
      "    output = await app.get_blocks().process_api(\n",
      "             ^^^^^^^^^^^^^^^^^^^^^^^^^^^^^^^^^^^\n",
      "  File \"c:\\Users\\Lardex\\anaconda3\\Lib\\site-packages\\gradio\\blocks.py\", line 1689, in process_api\n",
      "    result = await self.call_function(\n",
      "             ^^^^^^^^^^^^^^^^^^^^^^^^^\n",
      "  File \"c:\\Users\\Lardex\\anaconda3\\Lib\\site-packages\\gradio\\blocks.py\", line 1255, in call_function\n",
      "    prediction = await anyio.to_thread.run_sync(\n",
      "                 ^^^^^^^^^^^^^^^^^^^^^^^^^^^^^^^\n",
      "  File \"c:\\Users\\Lardex\\anaconda3\\Lib\\site-packages\\anyio\\to_thread.py\", line 28, in run_sync\n",
      "    return await get_asynclib().run_sync_in_worker_thread(func, *args, cancellable=cancellable,\n",
      "           ^^^^^^^^^^^^^^^^^^^^^^^^^^^^^^^^^^^^^^^^^^^^^^^^^^^^^^^^^^^^^^^^^^^^^^^^^^^^^^^^^^^^\n",
      "  File \"c:\\Users\\Lardex\\anaconda3\\Lib\\site-packages\\anyio\\_backends\\_asyncio.py\", line 818, in run_sync_in_worker_thread\n",
      "    return await future\n",
      "           ^^^^^^^^^^^^\n",
      "  File \"c:\\Users\\Lardex\\anaconda3\\Lib\\site-packages\\anyio\\_backends\\_asyncio.py\", line 754, in run\n",
      "    result = context.run(func, *args)\n",
      "             ^^^^^^^^^^^^^^^^^^^^^^^^\n",
      "  File \"c:\\Users\\Lardex\\anaconda3\\Lib\\site-packages\\gradio\\utils.py\", line 750, in wrapper\n",
      "    response = f(*args, **kwargs)\n",
      "               ^^^^^^^^^^^^^^^^^^\n",
      "  File \"C:\\Users\\Lardex\\AppData\\Local\\Temp\\ipykernel_25472\\2624909112.py\", line 9, in preprocess_and_predict\n",
      "    prediction = model.predict(padded_sequences)\n",
      "                 ^^^^^^^^^^^^^^^^^^^^^^^^^^^^^^^\n",
      "  File \"c:\\Users\\Lardex\\anaconda3\\Lib\\site-packages\\keras\\src\\utils\\traceback_utils.py\", line 70, in error_handler\n",
      "    raise e.with_traceback(filtered_tb) from None\n",
      "  File \"C:\\Users\\Lardex\\AppData\\Local\\Temp\\__autograph_generated_filea_gmv4b2.py\", line 18, in tf__predict_function\n",
      "    raise\n",
      "ValueError: in user code:\n",
      "\n",
      "    File \"c:\\Users\\Lardex\\anaconda3\\Lib\\site-packages\\keras\\src\\engine\\training.py\", line 2440, in predict_function  *\n",
      "        return step_function(self, iterator)\n",
      "    File \"c:\\Users\\Lardex\\anaconda3\\Lib\\site-packages\\keras\\src\\engine\\training.py\", line 2425, in step_function  **\n",
      "        outputs = model.distribute_strategy.run(run_step, args=(data,))\n",
      "    File \"c:\\Users\\Lardex\\anaconda3\\Lib\\site-packages\\keras\\src\\engine\\training.py\", line 2413, in run_step  **\n",
      "        outputs = model.predict_step(data)\n",
      "    File \"c:\\Users\\Lardex\\anaconda3\\Lib\\site-packages\\keras\\src\\engine\\training.py\", line 2381, in predict_step\n",
      "        return self(x, training=False)\n",
      "    File \"c:\\Users\\Lardex\\anaconda3\\Lib\\site-packages\\keras\\src\\utils\\traceback_utils.py\", line 70, in error_handler\n",
      "        raise e.with_traceback(filtered_tb) from None\n",
      "    File \"c:\\Users\\Lardex\\anaconda3\\Lib\\site-packages\\keras\\src\\engine\\input_spec.py\", line 298, in assert_input_compatibility\n",
      "        raise ValueError(\n",
      "\n",
      "    ValueError: Input 0 of layer \"sequential\" is incompatible with the layer: expected shape=(None, 1956), found shape=(None, 7)\n",
      "\n"
     ]
    }
   ],
   "source": [
    "\n",
    "# Create the Gradio interface\n",
    "iface = gr.Interface(\n",
    "    fn=preprocess_and_predict,\n",
    "    inputs=\"text\",\n",
    "    outputs=\"code\",\n",
    "    title=\"AI Coding Assistant\",\n",
    "    description=\"Ask a coding question and get a response generated by the trained model.\"\n",
    ")\n",
    "\n",
    "# Launch the interface\n",
    "iface.launch()"
   ]
  }
 ],
 "metadata": {
  "kernelspec": {
   "display_name": "base",
   "language": "python",
   "name": "python3"
  },
  "language_info": {
   "codemirror_mode": {
    "name": "ipython",
    "version": 3
   },
   "file_extension": ".py",
   "mimetype": "text/x-python",
   "name": "python",
   "nbconvert_exporter": "python",
   "pygments_lexer": "ipython3",
   "version": "3.11.5"
  }
 },
 "nbformat": 4,
 "nbformat_minor": 2
}
